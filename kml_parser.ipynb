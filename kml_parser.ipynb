{
  "nbformat": 4,
  "nbformat_minor": 0,
  "metadata": {
    "colab": {
      "provenance": [],
      "authorship_tag": "ABX9TyMm5OCYYIJwMiTtzthiEISb",
      "include_colab_link": true
    },
    "kernelspec": {
      "name": "python3",
      "display_name": "Python 3"
    },
    "language_info": {
      "name": "python"
    }
  },
  "cells": [
    {
      "cell_type": "markdown",
      "metadata": {
        "id": "view-in-github",
        "colab_type": "text"
      },
      "source": [
        "<a href=\"https://colab.research.google.com/github/tjturnage/Google-Colab_Notebooks/blob/main/kml_parser.ipynb\" target=\"_parent\"><img src=\"https://colab.research.google.com/assets/colab-badge.svg\" alt=\"Open In Colab\"/></a>"
      ]
    },
    {
      "cell_type": "markdown",
      "source": [
        "<h1>DAT storm survey paths/polygons to GR2Analyst placefiles conversion script.</h1>"
      ],
      "metadata": {
        "id": "0BuxtBkl6pCb"
      }
    },
    {
      "cell_type": "markdown",
      "source": [
        "\n",
        "\n",
        "\n",
        "1.   Go to the [NWS Damage Viewer](https://apps.dat.noaa.gov/stormdamage/damageviewer/) or the [damage editor site](https://apps.dat.noaa.gov/StormDamage/DamageEditor/) to select your features.\n",
        "\n",
        "2.  Download your features as a kmz ensuring only paths and/or polygons were selected.\n",
        "\n",
        "3. Click the folder icon on the left and drag your downloaded file into the region under the \"sample_data\" folder.\n",
        "\n",
        "![drag-area.png](data:image/png;base64,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)"
      ],
      "metadata": {
        "id": "51VhOv-KSlXy"
      }
    },
    {
      "cell_type": "code",
      "source": [
        "#@title Shouldn't need to change this name since it's the default the DAT gives\n",
        "kmz_filename = 'storm_survey.kmz' #@param {type:\"string\"}\n"
      ],
      "metadata": {
        "id": "o84kL3FAQndS",
        "cellView": "form"
      },
      "execution_count": null,
      "outputs": []
    },
    {
      "cell_type": "code",
      "source": [
        "#@title Edit information below. This will be used in placefile title.\n",
        "date = \"31 March 2023 Midwest Outbreak\" #@param {type:\"string\"}\n",
        "WFO = \"Multi WFO\" #@param {type:\"string\"}\n"
      ],
      "metadata": {
        "cellView": "form",
        "id": "22sD7mwJ40uS"
      },
      "execution_count": null,
      "outputs": []
    },
    {
      "cell_type": "code",
      "source": [
        "#@title Select which placefiles to create. Each will be a separate file.\n",
        "polygon = True #@param {type:\"boolean\"}\n",
        "path = True #@param {type:\"boolean\"}"
      ],
      "metadata": {
        "cellView": "form",
        "id": "1vkUjQ2l5VI3"
      },
      "execution_count": null,
      "outputs": []
    },
    {
      "cell_type": "markdown",
      "source": [
        "Run the cell below. After it completes, you should see two or three new files listed to the left. Ignore \"doc.kml\" but right-click on \"polygon_placefile\" and/or \"line_placefile\" to download them. Once they are downloaded, they can be added to GR2Analyst."
      ],
      "metadata": {
        "id": "x-OuVFOg55P9"
      }
    },
    {
      "cell_type": "code",
      "metadata": {
        "id": "9Ic2ug9Py6_k",
        "cellView": "form"
      },
      "source": [
        "#@title\n",
        "import zipfile\n",
        "\n",
        "class Damage_Plot():\n",
        "\n",
        "  def __init__(self, polygon, linestring):\n",
        "    self.polygon = polygon\n",
        "    self.linestring = linestring\n",
        "    self.coord_tag = False\n",
        "    self.polygon_tag = False\n",
        "    self.linestring_tag = False\n",
        "    self.start_output_files()\n",
        "    self.unzip_kml()\n",
        "    self.readlines()\n",
        "    self.file_close()\n",
        "\n",
        "  def start_output_files(self):\n",
        "    threshold_line = 'Threshold: 999\\n'\n",
        "    refresh_line = '\\nRefresh: 10\\n'\n",
        "    if self.polygon:\n",
        "      self.polygon_file = open('polygon_placefile','w')\n",
        "      self.polygon_file.write(f'Title: {WFO} -- {date} -- Polygons\\nRefresh: 10\\n')\n",
        "      self.polygon_file.write(threshold_line)\n",
        "    if self.linestring:\n",
        "      self.path_file = open('line_placefile','w')\n",
        "      self.path_file.write(f'Title: {WFO} -- {date} -- Paths\\nRefresh: 10\\n')\n",
        "      self.path_file.write(threshold_line)\n",
        "    return\n",
        "\n",
        "  def unzip_kml(self):\n",
        "    \"\"\"\n",
        "    Unzips kmz to a file called 'doc.kml' by default\n",
        "    \"\"\"\n",
        "    with zipfile.ZipFile('storm_survey.kmz', 'r') as zip_ref:\n",
        "      zip_ref.extractall('.')\n",
        "    return\n",
        "\n",
        "  def readlines(self):\n",
        "    with open('doc.kml','r') as fin:\n",
        "      for line in fin.readlines():\n",
        "        if 'styleUrl' in line:\n",
        "          if '5' in line:\n",
        "            hover_text = 5\n",
        "            color_line = 'Color: 168 10 132\\n'\n",
        "          elif '4' in line:\n",
        "            hover_text = 4\n",
        "            color_line = 'Color: 230 0 0\\n'\n",
        "          elif '3' in line:\n",
        "            hover_text = 3\n",
        "            color_line = 'Color: 230 152 6\\n'\n",
        "          elif '2' in line:\n",
        "            hover_text = 2\n",
        "            color_line = 'Color: 255 253 29\\n'\n",
        "          elif '1' in line:\n",
        "            hover_text = 1\n",
        "            color_line = 'Color: 85 253 34\\n'\n",
        "          else:\n",
        "            hover_text = 0\n",
        "            color_line = 'Color: 6 254 197\\n'\n",
        "\n",
        "        elif 'Event Date' in line:\n",
        "          try:\n",
        "            test = line.split('<td>')\n",
        "            date_string = test[-1][:-6]\n",
        "            #print(date_string)\n",
        "          except:\n",
        "            date_string = 'date unavailable'\n",
        "\n",
        "        elif ('<LineString>' in line and self.linestring):\n",
        "          self.linestring_tag = True\n",
        "          self.polygon_tag = False\n",
        "\n",
        "        elif ('<Polygon>' in line and self.polygon):\n",
        "          self.polygon_tag = True\n",
        "          self.linestring_tag = False\n",
        "\n",
        "        elif '<coordinates>' in line:\n",
        "          self.coord_tag = True\n",
        "          feature_text = f'{color_line}Line: 1, 0, \" EF{hover_text} -- {date_string} \"\\n'\n",
        "          if self.linestring_tag and self.linestring:\n",
        "            self.path_file.write(feature_text)\n",
        "          if self.polygon_tag and self.polygon:\n",
        "            self.polygon_file.write(feature_text)\n",
        "\n",
        "        elif '</coordinates>' in line:\n",
        "          end_text = f'End:\\n\\n'\n",
        "          if self.linestring_tag and self.linestring:\n",
        "            self.path_file.write(end_text)\n",
        "          if self.polygon_tag and self.polygon:\n",
        "            self.polygon_file.write(end_text)\n",
        "\n",
        "          self.coord_tag = False\n",
        "          self.linestring_tag = False\n",
        "          self.polygon_tag = False\n",
        "\n",
        "        elif self.coord_tag:   \n",
        "          try:\n",
        "            lon,lat,zero = line.split(',')\n",
        "            coordinate_text = f' {float(lat):.5f}, {float(lon):.5f}\\n'\n",
        "            #print(text)\n",
        "            if self.linestring_tag and self.linestring:\n",
        "              self.path_file.write(coordinate_text)\n",
        "            if self.polygon_tag and self.polygon:\n",
        "              self.polygon_file.write(coordinate_text)\n",
        "          except:\n",
        "            pass\n",
        "\n",
        "        else:\n",
        "          pass\n",
        "\n",
        "    return\n",
        "\n",
        "  def file_close(self):\n",
        "    try:\n",
        "      self.polygon_file.close()\n",
        "    except:\n",
        "      pass\n",
        "    try:\n",
        "      self.path_file.close()\n",
        "    except:\n",
        "      pass\n",
        "\n",
        "    return\n",
        "\n",
        "if __name__ == \"__main__\":\n",
        "    Damage_Plot(polygon, path)"
      ],
      "execution_count": null,
      "outputs": []
    }
  ]
}