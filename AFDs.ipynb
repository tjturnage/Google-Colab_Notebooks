{
  "nbformat": 4,
  "nbformat_minor": 0,
  "metadata": {
    "colab": {
      "provenance": [],
      "gpuType": "T4",
      "authorship_tag": "ABX9TyN5S1UK7eO0aDMuZFN0ClR5",
      "include_colab_link": true
    },
    "kernelspec": {
      "name": "python3",
      "display_name": "Python 3"
    },
    "language_info": {
      "name": "python"
    },
    "gpuClass": "standard"
  },
  "cells": [
    {
      "cell_type": "markdown",
      "metadata": {
        "id": "view-in-github",
        "colab_type": "text"
      },
      "source": [
        "<a href=\"https://colab.research.google.com/github/tjturnage/Google-Colab_Notebooks/blob/main/AFDs.ipynb\" target=\"_parent\"><img src=\"https://colab.research.google.com/assets/colab-badge.svg\" alt=\"Open In Colab\"/></a>"
      ]
    },
    {
      "cell_type": "markdown",
      "source": [
        "<font size='4.5em' color='#aaaa00'>To run this colab notebook, select your preferences in each cell. Click the \"play\" button to run each cell in sequence.</font>\n",
        "\n",
        "![run_complete_crop.png](data:image/png;base64,iVBORw0KGgoAAAANSUhEUgAAAF0AAABMCAYAAAAP+7v9AAAAAXNSR0IArs4c6QAAAARnQU1BAACxjwv8YQUAAAAJcEhZcwAAEnQAABJ0Ad5mH3gAAATaSURBVHhe7ZtLSCRXFIZP60wyrZBJIq7iaxFB3QgKsQXFnboSdJnoQgK6aRAVEVQwDroUFMaFGgQfZKcBN77QjW4ScOVCN4oPogtNMmq0Z8Z0d/zv3BbH0XRV1+NMO+eDom/dsk7r17dP3XvK8vh8vjDdITc3lzY3N/Ve7ITD74cOhUKqD1swGFRbcnKyPvrpkKBfBRcR6QyIdAZEOgMinQGRzoBIZ0CkMyDSGRDpDIh0BthrL9nZ2fpofHN4eKhb0ZGRzoBIZ0CkMyDSGRDpDIh0BkQ6AyKdAZHOgEhnQKQz8Gil5+TkUGFhIVVXV6sNbdSUPgYeVcErMzOTKioqlOCkpCTd+z6Xl5e0vr5OCwsLtLe3p3utY6bg9SikQ3BtbS2VlpbqHmOsrq7S1NSU+iCs8klVGTG6e3t7TQsHOAfnIoabOC796XfPKDHtqd6zF8jq6Oig1NRU3WMenIsYbop3VDqEP/vhOT25frUbpJSmpqYHc7cZ7IxlBMekR4Rf/RagNzPnutc+6urqLI3wuyAWYrqBI9ITv/2MPv/+CwpuX9HrX850r30gFZSUlOi9+9nf36dAIKD3jIGYdn6QD2G79IRvnpD3x+cU/ONfCvz8SvfaS2VlpW49DKaFfX19Sr4ZampqdMs5YpKuxPq/JPJ6dM870J/k/4qCfwUp8PJvCl+G9BF7wTzcCJiHQ/za2pruiU5BQYFuOUfMIz0iOCL+rnAKfDD9twWsNL1er96LDubgw8PDNDIyYijd4GKK93CSmKSHkDpeviLP1wlKNHK4G8JBrI/LYCFkNN04/UhOzCMd4t/++s9NqrleZ9IbXDQdFA6szKeNphun5+yWLqRXv79WosOBkBr5+CDigbvlCbexJB1A/MWLP10TbqVIFVnBRisZ2FkIuw/L0hUOp5TbXFxc6JY5INrocj/W9zCKPdJdZGtry9SiB7ORhoYGtRlZ5iM23sNJ4k46wMLHCEbTyW2MxrZCXEqfn5/XrYfBIieW6uHMzIxuOUdcSseFzsi0z2zVEDGPj4/1nnOYlo4/BHPdxcVFWl5epqGhIcrKytJH3WNycpJOTk70nnUQCzHdwLT0qqoqtUzG0rq7u1tV5dDnNljeDwwMmK4k3gdiIJYdt+2MYFp6eno6nZ2d0fT0tPo6Hhwc3OTNlpYWdcN3ZWWFxsfHqaioSPU7RWSFaWXE41zEcHpufhvbcnpZWRn5fD6amJggv9+vbjpj32kgq7Oz01QlMQLOwbluCge2Sd/Z2aHT01N196W5uZmWlpZodHRUH3WWSCWxq6tLify/lINj+Bl8K3GOWynlNqb/BaOtrY3y8vKovr5e7ff396vX1tZWdZHFnLi4uFjVvCF+cHBQHQduPuiF6w6qhZHUh9GMlaZTCx8z/4KRmJaW9pNu34CL40N5MiMjQ82BISwlJYXKy8tpY2ODruNQe3s7bW9v09zcHOXn55PH41H5PcLtQlNEPmI4AX7/o6MjNXiwoW0l90fj/Nz4fWDT6WV2dlaNlsbGRurp6VHzWvRB9O7uruofGxtTNxrQL3yIPEdqE/Ic6UeOSGdApDMg0hkQ6QyIdAZEOgMinQGRzoBIZ0CkMyDSGRDpDIh0BkQ6AyKdAZHOgEhnQKQzINIZEOkMiHQGRLrrEP0HJoNXv0BpUuoAAAAASUVORK5CYII=)\n",
        "\n",
        "<font size='4.5em' color='#aaaa00'>\n",
        "Wait for a cell to complete successfully before proceeding to the next one.</font>\n"
      ],
      "metadata": {
        "id": "mAe3wUzI5c8r"
      }
    },
    {
      "cell_type": "markdown",
      "source": [
        "<font size='4.5em' color='#6666ff' style='bold' text-align='center'>Enter the three letter ID of your WFO below</font>\n",
        "\n",
        "---\n",
        "\n"
      ],
      "metadata": {
        "id": "kuGRVbIySowK"
      }
    },
    {
      "cell_type": "code",
      "source": [
        "import re\n",
        "from datetime import datetime\n",
        "import requests\n",
        "from bs4 import BeautifulSoup\n",
        "\n",
        "wfo = \"APX\" #@param {type:\"string\"}\n",
        "\n",
        "try:\n",
        "  url = f'https://forecast.weather.gov/product.php?site={wfo}&issuedby={wfo}&product=AFD&format=ci&version=1&glossary=0'\n",
        "  page = requests.get(url, timeout=5)\n",
        "  soup = BeautifulSoup(page.content, 'html.parser')\n",
        "  afd_text = str(soup.pre)\n",
        "  print(f'{wfo} is your selected WFO.')\n",
        "except:\n",
        "  print(f'Unable to access AFDs from {wfo}! Ensure your id is correct!')\n"
      ],
      "metadata": {
        "colab": {
          "base_uri": "https://localhost:8080/"
        },
        "cellView": "form",
        "id": "FpVWm-LgO2cC",
        "outputId": "ffd92c2f-a5f9-4bbd-b96a-436788219e5a"
      },
      "execution_count": null,
      "outputs": [
        {
          "output_type": "stream",
          "name": "stdout",
          "text": [
            "APX is your selected WFO.\n"
          ]
        }
      ]
    },
    {
      "cell_type": "markdown",
      "source": [
        "<font size='4.5em' color='#6666ff' style='bold'>Use the drop down menu to Select the number of AFDs you want to retrieve:</font>\n",
        "<hr>"
      ],
      "metadata": {
        "id": "AkdA0Lkcj3YF"
      }
    },
    {
      "cell_type": "code",
      "source": [
        "number_of_afds = 45 #@param [\"5\", \"10\", \"15\", \"20\", \"25\", \"30\", \"35\", \"40\", \"45\", \"50\"] {type:\"raw\"}\n"
      ],
      "metadata": {
        "id": "eRRCRl4Fdf3P",
        "cellView": "form"
      },
      "execution_count": null,
      "outputs": []
    },
    {
      "cell_type": "markdown",
      "source": [
        "<font size='4.5em' color='#6666ff' style='bold'>Select the AFD sections you want to extract:</font>\n",
        "<hr>"
      ],
      "metadata": {
        "id": "MQIRjhj4lERA"
      }
    },
    {
      "cell_type": "code",
      "source": [
        "update = True #@param {type:\"boolean\"}\n",
        "synopsis = False #@param {type:\"boolean\"}\n",
        "short_term = True #@param {type:\"boolean\"}\n",
        "long_term = True #@param {type:\"boolean\"}\n",
        "discussion = False #@param {type:\"boolean\"}\n",
        "aviation = False #@param {type:\"boolean\"}\n",
        "fire_weather = False #@param {type:\"boolean\"}\n",
        "hydrology = False #@param {type:\"boolean\"}\n",
        "marine = False #@param {type:\"boolean\"}\n",
        "climate = False #@param {type:\"boolean\"}\n",
        "\n",
        "\n",
        "sections_to_retrieve = []\n",
        "if update:\n",
        "  sections_to_retrieve.append('.UPDATE')\n",
        "if synopsis:\n",
        "  sections_to_retrieve.append('.SYNOPSIS')\n",
        "if short_term:\n",
        "  sections_to_retrieve.append('.SHORT TERM')\n",
        "if long_term:\n",
        "  sections_to_retrieve.append('.LONG TERM')\n",
        "if discussion:\n",
        "  sections_to_retrieve.append('.DISCUSSION')\n",
        "if aviation:\n",
        "  sections_to_retrieve.append('.AVIATION')\n",
        "if fire_weather:\n",
        "  sections_to_retrieve.append('.FIRE WEATHER')\n",
        "if hydrology:\n",
        "  sections_to_retrieve.append('.HYDROLOGY')\n",
        "if marine:\n",
        "  sections_to_retrieve.append('.MARINE')\n",
        "if climate:\n",
        "  sections_to_retrieve.append('.CLIMATE')\n",
        "\n",
        "\n",
        "print(f'You selected: {sections_to_retrieve}')"
      ],
      "metadata": {
        "colab": {
          "base_uri": "https://localhost:8080/"
        },
        "cellView": "form",
        "id": "vaTkUn_53yLI",
        "outputId": "30bc0aad-62c7-4490-c386-771ef581c2b3"
      },
      "execution_count": null,
      "outputs": [
        {
          "output_type": "stream",
          "name": "stdout",
          "text": [
            "You selected: ['.UPDATE', '.SHORT TERM', '.LONG TERM']\n"
          ]
        }
      ]
    },
    {
      "cell_type": "markdown",
      "source": [
        "<hr>   \n",
        "\n",
        "<font size='4.5em' color='#6666ff' style='bold'>Run the final cell below, and then scroll down past it once it completes.</font>   \n",
        "<hr>"
      ],
      "metadata": {
        "id": "l2NRoUM60vxZ"
      }
    },
    {
      "cell_type": "code",
      "source": [
        "output_path = 'afds.txt'\n",
        "    \n",
        "class AFD:\n",
        "    def __init__(self,wfo,versions=50):\n",
        "        self.wfo = wfo\n",
        "        self.versions = int(versions)\n",
        "        if self.versions > 50:\n",
        "            self.versions = 50\n",
        "        self.section_dict = {}\n",
        "        self.grab_bulletins()\n",
        "        self.write_text()\n",
        "\n",
        "    def get_time(self,line):\n",
        "        \"\"\"\n",
        "        input:\n",
        "            String: \"Issued at\" line (Ex: 'Issued at 307 AM EST Sat Dec 18 2021')\n",
        "            return: datestring\n",
        "            %I      7   Hour (12-hour clock) as a decimal number. (Platform specific)\n",
        "            %M     06   Minute as a zero-padded decimal number.\n",
        "            %p     AM   Locale’s equivalent of either AM or PM.\n",
        "            %a    Sun   Weekday as locale’s abbreviated name.\n",
        "            %b    Sep   Month as locale’s abbreviated name.\n",
        "            %-d     8   Day of the month as a decimal number. (Platform specific)\n",
        "            %Y   2013   Year with century as a decimal number.\n",
        "\n",
        "        \"\"\"\n",
        "        #test = 'Issued at 1207 PM EST Sat Dec 8 2021'\n",
        "        try:\n",
        "          elements = line.split(\" \")\n",
        "          # remove the time zone and day of week because they don't matter\n",
        "          extracted_elements = elements[2:4] + elements[6:]\n",
        "          shortened_time_string = \" \".join(extracted_elements)\n",
        "          datetime_object = datetime.strptime(shortened_time_string, '%I%M %p %b %d %Y')\n",
        "          new_datetime_string = datetime.strftime(datetime_object, '%Y%m%d%H%M')\n",
        "        except:\n",
        "          new_datetime_string = \"ZZZZ_Missing\"\n",
        "\n",
        "        return new_datetime_string\n",
        "\n",
        "\n",
        "    def get_forecaster_id(self,afd_text,section_name):\n",
        "        \"\"\"\n",
        "\n",
        "        \"\"\"\n",
        "        buffer = '  --------------------------  '\n",
        "        section_name_minus_leading_period = section_name[1:]\n",
        "        forecaster_id_section = afd_text.split('$$')[-1]\n",
        "        id_lines = forecaster_id_section.splitlines()\n",
        "        fcstr = 'None found'\n",
        "        for line in id_lines:\n",
        "          if section_name_minus_leading_period in line:\n",
        "            fcstr = str(line.split(\"...\")[1])    \n",
        "            final = f'\\n\\n{buffer}{fcstr}{buffer}\\n\\n'\n",
        "            break\n",
        "\n",
        "        return final\n",
        "      \n",
        "\n",
        "\n",
        "    def get_section(self,afd_text,section_name):\n",
        "      \"\"\"\n",
        "\n",
        "      \"\"\"    \n",
        "      datetime_string = \"ZZZZ_Missing\"\n",
        "      try:\n",
        "        section_text = afd_text.split(section_name)[1]\n",
        "      except:\n",
        "        return\n",
        "      \n",
        "      issuance_time_string = self.get_time(section_text)\n",
        "\n",
        "      try:\n",
        "        forecaster_id = self.get_forecaster_id(afd_text,section_name)\n",
        "      except:\n",
        "        print('forecaster id missing!')\n",
        "\n",
        "\n",
        "      section_data = []\n",
        "      for line in section_text.splitlines():\n",
        "        if '&amp;&amp;' in line:\n",
        "          break\n",
        "        elif '$' in line:\n",
        "          break\n",
        "        elif '.LONG TERM' in line:\n",
        "          break\n",
        "        else:\n",
        "          if 'Issued at' in line:\n",
        "            datetime_string = self.get_time(line)\n",
        "            section_data.append(line)\n",
        "          else:\n",
        "            section_data.append(line)\n",
        "\n",
        "      section_content = '\\n'.join(section_data)\n",
        "      unique_section_identifier = f'{datetime_string}_{section_name}'\n",
        "      final_section_text = f'{forecaster_id}{section_name}{section_content}'\n",
        "      self.section_dict[unique_section_identifier] = final_section_text\n",
        "      return\n",
        "\n",
        "\n",
        "    def grab_bulletins(self):\n",
        "        for version in range(1,self.versions):\n",
        "            url = f'https://forecast.weather.gov/product.php?site={wfo}&issuedby={wfo}&product=AFD&format=ci&version={version}&glossary=0'\n",
        "            page = requests.get(url, timeout=5)\n",
        "            soup = BeautifulSoup(page.content, 'html.parser')\n",
        "            afd_text = str(soup.pre)\n",
        "            for section in sections_to_retrieve:\n",
        "                self.get_section(afd_text, section)\n",
        "\n",
        "        return\n",
        "\n",
        "    def write_text(self):\n",
        "      with open('afds.txt','w') as fout:\n",
        "        for value in self.section_dict.values():\n",
        "          fout.write(value)\n",
        "\n",
        "        \n",
        "if __name__ == '__main__':\n",
        "    test = AFD(wfo, number_of_afds)\n"
      ],
      "metadata": {
        "id": "Wv9imwOrwCdO"
      },
      "execution_count": null,
      "outputs": []
    },
    {
      "cell_type": "markdown",
      "source": [
        "<font size='4.5em' color='#6666ff' style='bold'>Click the folder icon to the left to reveal a file called \"afds.txt\". Double-click to view or right-click to download.</font>\n",
        "<hr>   \n",
        "\n",
        "![file_location.png](data:image/png;base64,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)   \n",
        "\n",
        "<hr>\n",
        "\n",
        "<font size='4em' color='#6666ff' style='bold'>AFD sections will be listed in the text file with the most recent issuance at the top.</font>\n",
        "   \n",
        "<font size='3.5em' color='cc99cc'>In the example below, forecaster ABC wrote the SHORT TERM section.</font>\n",
        "<hr>\n",
        "\n",
        "```\n",
        "\n",
        "  --------------------------  ABC  --------------------------  \n",
        "\n",
        ".SHORT TERM...\n",
        "(Today and tonight)\n",
        "Issued at 330 AM CDT Mon Mar 20 2023\n",
        "\n",
        "Our area will remain under high pressure today ...\n",
        "```\n",
        "\n",
        " "
      ],
      "metadata": {
        "id": "mhfd_eDNO4FN"
      }
    }
  ]
}