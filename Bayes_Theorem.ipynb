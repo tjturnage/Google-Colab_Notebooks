{
  "cells": [
    {
      "cell_type": "markdown",
      "metadata": {
        "id": "view-in-github",
        "colab_type": "text"
      },
      "source": [
        "<a href=\"https://colab.research.google.com/github/tjturnage/google-colabs/blob/main/Bayes_Theorem.ipynb\" target=\"_parent\"><img src=\"https://colab.research.google.com/assets/colab-badge.svg\" alt=\"Open In Colab\"/></a>"
      ]
    },
    {
      "cell_type": "code",
      "execution_count": null,
      "metadata": {
        "id": "TnXR17_asPuC",
        "cellView": "form"
      },
      "outputs": [],
      "source": [
        "# @title Install the packages you need. You can ignore the comments that appears as long as there are no error messages.\n",
        "print(\"Installing packages ...\")\n",
        "!pip install jupyter-dash -q\n",
        "!pip install dash-bootstrap-components -q\n",
        "print(\"Importing libraries ...\")\n",
        "import numpy as np\n",
        "from jupyter_dash import JupyterDash\n",
        "import dash_bootstrap_components as dbc\n",
        "from dash import Dash, dcc, html, Output, Input, no_update\n",
        "import plotly.graph_objects as go\n",
        "import warnings\n",
        "warnings.filterwarnings('ignore')\n",
        "\n",
        "print(\"setting up grid ...\")\n",
        "N = 50\n",
        "Y = np.arange(0,1.02,0.02)\n",
        "Z = np.arange(0,1.02,0.02)\n",
        "y,z = np.meshgrid(Y,Z)\n",
        "\n",
        "print(\"Success !\")"
      ]
    },
    {
      "cell_type": "code",
      "source": [
        "# @title Set Prior Probability\n",
        "prior_probability = 0.05 # @param {type:\"slider\", min: 0.00, max:1.00, step:0.05}\n"
      ],
      "metadata": {
        "cellView": "form",
        "id": "GBYXCt7v-N9r"
      },
      "execution_count": null,
      "outputs": []
    },
    {
      "cell_type": "code",
      "execution_count": null,
      "metadata": {
        "id": "oXSM1nSTUmsq",
        "colab": {
          "base_uri": "https://localhost:8080/",
          "height": 671
        },
        "outputId": "f67c484f-c065-4e8e-9238-0d5c6bdfb157",
        "cellView": "form"
      },
      "outputs": [
        {
          "output_type": "display_data",
          "data": {
            "text/plain": [
              "<IPython.core.display.Javascript object>"
            ],
            "application/javascript": [
              "(async (port, path, width, height, cache, element) => {\n",
              "    if (!google.colab.kernel.accessAllowed && !cache) {\n",
              "      return;\n",
              "    }\n",
              "    element.appendChild(document.createTextNode(''));\n",
              "    const url = await google.colab.kernel.proxyPort(port, {cache});\n",
              "    const iframe = document.createElement('iframe');\n",
              "    iframe.src = new URL(path, url).toString();\n",
              "    iframe.height = height;\n",
              "    iframe.width = width;\n",
              "    iframe.style.border = 0;\n",
              "    iframe.allow = [\n",
              "        'accelerometer',\n",
              "        'autoplay',\n",
              "        'camera',\n",
              "        'clipboard-read',\n",
              "        'clipboard-write',\n",
              "        'gyroscope',\n",
              "        'magnetometer',\n",
              "        'microphone',\n",
              "        'serial',\n",
              "        'usb',\n",
              "        'xr-spatial-tracking',\n",
              "    ].join('; ');\n",
              "    element.appendChild(iframe);\n",
              "  })(8050, \"/\", \"100%\", 650, false, window.element)"
            ]
          },
          "metadata": {}
        }
      ],
      "source": [
        "# @title Run code below to generate the plot (may take several seconds to load).\n",
        "prior = prior_probability\n",
        "prior_str = f'Prior Prob: {prior:.2f}'\n",
        "title_str = f\"Bayes' Theorem Calculation<br>Prior Probability = {prior:.2f}\"\n",
        "\n",
        "post = (prior*y)/((prior*y) + z*(1 - prior))\n",
        "\n",
        "trace = go.Surface(x=y,y=z,z=post, colorscale='Viridis', opacity=0.35, contours=go.surface.Contours(\n",
        "        x=go.surface.contours.X(highlight=False),\n",
        "        y=go.surface.contours.Y(highlight=True,highlightcolor=\"#ff3333\"),\n",
        "        z=go.surface.contours.Z(highlight=False),\n",
        "        ),\n",
        "        hovertemplate = prior_str +\\\n",
        "        '<br>Prob Hypothesis True: %{x:.2f}' +\\\n",
        "        '<br>Prob Hypothesis Null: %{y:.2f}' +\\\n",
        "        '<br>New Posterior Prob: %{z:.2f}<extra></extra>'\n",
        "        )\n",
        "\n",
        "data = [trace]\n",
        "layout = go.Layout(title=title_str, autosize=False, width=900, height=800, margin=dict(l=65, r=50, b=65, t=90),\n",
        "        scene=go.layout.Scene(\n",
        "        xaxis = go.layout.scene.XAxis(showspikes=False),\n",
        "        yaxis = go.layout.scene.YAxis(showspikes=False),\n",
        "        zaxis = go.layout.scene.ZAxis(showspikes=True),\n",
        "        )\n",
        "        )\n",
        "\n",
        "fig = go.Figure(data=data, layout=layout)\n",
        "\n",
        "camera = dict(\n",
        "    eye=dict(x=-1.2, y=-1.8, z=0.3)\n",
        ")\n",
        "\n",
        "fig.update_layout(scene_camera=camera,\n",
        "                  scene = dict(\n",
        "                    xaxis_title='Prob Hypothesis True',\n",
        "                    yaxis_title='Prob Hypothesis Null',\n",
        "                    zaxis_title='New Posterior Prob'),\n",
        "                    hoverlabel_align = 'right',\n",
        ")\n",
        "\n",
        "app = Dash()\n",
        "app.layout = html.Div([\n",
        "    dcc.Graph(figure=fig)\n",
        "])\n",
        "\n",
        "app.run_server(use_reloader=True)"
      ]
    }
  ],
  "metadata": {
    "colab": {
      "provenance": [],
      "include_colab_link": true
    },
    "kernelspec": {
      "display_name": "Python 3",
      "name": "python3"
    },
    "language_info": {
      "name": "python"
    }
  },
  "nbformat": 4,
  "nbformat_minor": 0
}